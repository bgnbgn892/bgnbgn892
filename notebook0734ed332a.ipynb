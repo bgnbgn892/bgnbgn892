{
 "cells": [
  {
   "cell_type": "code",
   "execution_count": 1,
   "id": "3a59a31c",
   "metadata": {
    "_cell_guid": "b1076dfc-b9ad-4769-8c92-a6c4dae69d19",
    "_uuid": "8f2839f25d086af736a60e9eeb907d3b93b6e0e5",
    "execution": {
     "iopub.execute_input": "2022-07-14T16:05:19.311987Z",
     "iopub.status.busy": "2022-07-14T16:05:19.311593Z",
     "iopub.status.idle": "2022-07-14T16:05:19.353276Z",
     "shell.execute_reply": "2022-07-14T16:05:19.352251Z"
    },
    "papermill": {
     "duration": 0.048173,
     "end_time": "2022-07-14T16:05:19.355744",
     "exception": false,
     "start_time": "2022-07-14T16:05:19.307571",
     "status": "completed"
    },
    "tags": []
   },
   "outputs": [
    {
     "name": "stdout",
     "output_type": "stream",
     "text": [
      "/kaggle/input/bbbbbbbbbbbbbb/CONTRIBUTING.md\n",
      "/kaggle/input/bbbbbbbbbbbbbb/LICENSE\n",
      "/kaggle/input/bbbbbbbbbbbbbb/README.md\n",
      "/kaggle/input/bbbbbbbbbbbbbb/requirements.txt\n",
      "/kaggle/input/bbbbbbbbbbbbbb/comparison.png\n",
      "/kaggle/input/bbbbbbbbbbbbbb/setup.py\n",
      "/kaggle/input/bbbbbbbbbbbbbb/bigbird/pretrain/__init__.py\n",
      "/kaggle/input/bbbbbbbbbbbbbb/bigbird/pretrain/run_pretraining.py\n",
      "/kaggle/input/bbbbbbbbbbbbbb/bigbird/vocab/gpt2.model\n",
      "/kaggle/input/bbbbbbbbbbbbbb/bigbird/vocab/pegasus.model\n",
      "/kaggle/input/bbbbbbbbbbbbbb/bigbird/core/encoder.py\n",
      "/kaggle/input/bbbbbbbbbbbbbb/bigbird/core/attention.py\n",
      "/kaggle/input/bbbbbbbbbbbbbb/bigbird/core/modeling.py\n",
      "/kaggle/input/bbbbbbbbbbbbbb/bigbird/core/recompute_grad.py\n",
      "/kaggle/input/bbbbbbbbbbbbbb/bigbird/core/beam_search.py\n",
      "/kaggle/input/bbbbbbbbbbbbbb/bigbird/core/utils.py\n",
      "/kaggle/input/bbbbbbbbbbbbbb/bigbird/core/optimization.py\n",
      "/kaggle/input/bbbbbbbbbbbbbb/bigbird/core/decoder.py\n",
      "/kaggle/input/bbbbbbbbbbbbbb/bigbird/core/__init__.py\n",
      "/kaggle/input/bbbbbbbbbbbbbb/bigbird/core/flags.py\n",
      "/kaggle/input/bbbbbbbbbbbbbb/bigbird/classifier/base_size.sh\n",
      "/kaggle/input/bbbbbbbbbbbbbb/bigbird/classifier/imdb.ipynb\n",
      "/kaggle/input/bbbbbbbbbbbbbb/bigbird/classifier/run_classifier.py\n",
      "/kaggle/input/bbbbbbbbbbbbbb/bigbird/classifier/__init__.py\n",
      "/kaggle/input/bbbbbbbbbbbbbb/bigbird/classifier/large_size.sh\n",
      "/kaggle/input/bbbbbbbbbbbbbb/bigbird/summarization/roberta_base.sh\n",
      "/kaggle/input/bbbbbbbbbbbbbb/bigbird/summarization/run_summarization.py\n",
      "/kaggle/input/bbbbbbbbbbbbbb/bigbird/summarization/eval.ipynb\n",
      "/kaggle/input/bbbbbbbbbbbbbb/bigbird/summarization/__init__.py\n",
      "/kaggle/input/bbbbbbbbbbbbbb/bigbird/summarization/pubmed.ipynb\n",
      "/kaggle/input/bbbbbbbbbbbbbb/bigbird/summarization/pegasus_large.sh\n"
     ]
    }
   ],
   "source": [
    "# This Python 3 environment comes with many helpful analytics libraries installed\n",
    "# It is defined by the kaggle/python Docker image: https://github.com/kaggle/docker-python\n",
    "# For example, here's several helpful packages to load\n",
    "\n",
    "import numpy as np # linear algebra\n",
    "import pandas as pd # data processing, CSV file I/O (e.g. pd.read_csv)\n",
    "\n",
    "# Input data files are available in the read-only \"../input/\" directory\n",
    "# For example, running this (by clicking run or pressing Shift+Enter) will list all files under the input directory\n",
    "\n",
    "import os\n",
    "for dirname, _, filenames in os.walk('/kaggle/input'):\n",
    "    for filename in filenames:\n",
    "        print(os.path.join(dirname, filename))\n",
    "\n",
    "# You can write up to 20GB to the current directory (/kaggle/working/) that gets preserved as output when you create a version using \"Save & Run All\" \n",
    "# You can also write temporary files to /kaggle/temp/, but they won't be saved outside of the current session"
   ]
  },
  {
   "cell_type": "code",
   "execution_count": null,
   "id": "c0fbca8a",
   "metadata": {
    "papermill": {
     "duration": 0.00164,
     "end_time": "2022-07-14T16:05:19.359508",
     "exception": false,
     "start_time": "2022-07-14T16:05:19.357868",
     "status": "completed"
    },
    "tags": []
   },
   "outputs": [],
   "source": []
  },
  {
   "cell_type": "code",
   "execution_count": null,
   "id": "6c34eb26",
   "metadata": {
    "papermill": {
     "duration": 0.001546,
     "end_time": "2022-07-14T16:05:19.362895",
     "exception": false,
     "start_time": "2022-07-14T16:05:19.361349",
     "status": "completed"
    },
    "tags": []
   },
   "outputs": [],
   "source": []
  }
 ],
 "metadata": {
  "kernelspec": {
   "display_name": "Python 3",
   "language": "python",
   "name": "python3"
  },
  "language_info": {
   "codemirror_mode": {
    "name": "ipython",
    "version": 3
   },
   "file_extension": ".py",
   "mimetype": "text/x-python",
   "name": "python",
   "nbconvert_exporter": "python",
   "pygments_lexer": "ipython3",
   "version": "3.7.12"
  },
  "papermill": {
   "default_parameters": {},
   "duration": 10.940916,
   "end_time": "2022-07-14T16:05:20.083881",
   "environment_variables": {},
   "exception": null,
   "input_path": "__notebook__.ipynb",
   "output_path": "__notebook__.ipynb",
   "parameters": {},
   "start_time": "2022-07-14T16:05:09.142965",
   "version": "2.3.4"
  }
 },
 "nbformat": 4,
 "nbformat_minor": 5
}
